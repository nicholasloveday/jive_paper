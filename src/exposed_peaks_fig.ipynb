{
 "cells": [
  {
   "cell_type": "markdown",
   "metadata": {},
   "source": [
    "# Wind speed around exposed peaks (fig 4)\n",
    "\n",
    "In this notebook we:\n",
    "1. evaluate the wind speed exposed peaks hindcast experiment and generate figure 4, \n",
    "2. produce a station maps plot, and\n",
    "3. calculate if the difference in errors is statistically significant."
   ]
  },
  {
   "cell_type": "code",
   "execution_count": null,
   "metadata": {},
   "outputs": [],
   "source": [
    "import numpy as np\n",
    "import pandas as pd\n",
    "import xarray as xr\n",
    "\n",
    "from scores.continuous import mse\n",
    "from scores.processing import broadcast_and_match_nan\n",
    "from scores.stats.statistical_tests import diebold_mariano\n",
    "\n",
    "import plotly.express as px\n",
    "import plotly.graph_objects as go"
   ]
  },
  {
   "cell_type": "markdown",
   "metadata": {},
   "source": [
    "### Open data and prepare data"
   ]
  },
  {
   "cell_type": "code",
   "execution_count": null,
   "metadata": {},
   "outputs": [],
   "source": [
    "# Data for exposed peaks experiment\n",
    "official_peaks = xr.open_dataarray(\n",
    "    \"data/exposed_peaks/Official_WindMag_00_20171201-20180228_exposed_peaks.nc\"\n",
    ")\n",
    "# The existing automated alternative for the 2017-2018 summer was FCF 1.0 with an 18Z base time\n",
    "automated_peaks = xr.open_dataarray(\n",
    "    \"data/exposed_peaks/FCF_1_0_AutoFcst_WindMag_18_20171201-20180228_exposed_peaks.nc\"\n",
    ")\n",
    "# The hindcast was called FCF1.3\n",
    "hindcast_peaks = xr.open_dataarray(\n",
    "    \"data/exposed_peaks/FCF_1_3_AutoFcst_WindMag_18_20171201-20180228_exposed_peaks.nc\"\n",
    ")\n",
    "obs_peaks = xr.open_dataarray(\n",
    "    \"data/exposed_peaks/obs_WindMag_20171201-20180228_exposed_peaks.nc\"\n",
    ")\n",
    "\n",
    "# Match missing data between datasets\n",
    "official_peaks, automated_peaks, hindcast_peaks, obs_peaks = broadcast_and_match_nan(\n",
    "    official_peaks, automated_peaks, hindcast_peaks, obs_peaks\n",
    ")"
   ]
  },
  {
   "cell_type": "markdown",
   "metadata": {},
   "source": [
    "### Calculate scores and produce figure"
   ]
  },
  {
   "cell_type": "code",
   "execution_count": null,
   "metadata": {},
   "outputs": [],
   "source": [
    "official_peaks_mse = mse(official_peaks, obs_peaks, preserve_dims=\"lead_day\")\n",
    "hindcast_peaks_mse = mse(hindcast_peaks, obs_peaks, preserve_dims=\"lead_day\")\n",
    "autofcst_peaks_mse = mse(automated_peaks, obs_peaks, preserve_dims=\"lead_day\")"
   ]
  },
  {
   "cell_type": "code",
   "execution_count": null,
   "metadata": {},
   "outputs": [],
   "source": [
    "official_line_colour = \"rgba(230,159,0,1)\"\n",
    "autofcst_line_colour = \"rgba(86,180,233,1)\"\n",
    "hindcast_line_colour = \"#009E73\"\n",
    "\n",
    "figure = go.Figure()\n",
    "figure.add_trace(\n",
    "    go.Scatter(\n",
    "        x=official_peaks_mse.lead_day,\n",
    "        y=official_peaks_mse.values,\n",
    "        line=dict(color=official_line_colour),\n",
    "        name=\"Official\",\n",
    "    )\n",
    ")\n",
    "figure.add_trace(\n",
    "    go.Scatter(\n",
    "        x=autofcst_peaks_mse.lead_day,\n",
    "        y=autofcst_peaks_mse.values,\n",
    "        line=dict(color=autofcst_line_colour),\n",
    "        name=\"Existing automated\",\n",
    "    )\n",
    ")\n",
    "figure.add_trace(\n",
    "    go.Scatter(\n",
    "        x=hindcast_peaks_mse.lead_day,\n",
    "        y=hindcast_peaks_mse.values,\n",
    "        line=dict(color=hindcast_line_colour),\n",
    "        name=\"Hindcast experiment\",\n",
    "    )\n",
    ")\n",
    "\n",
    "figure.update_layout(\n",
    "    legend=dict(x=0.47, y=0.85),\n",
    "    height=400,\n",
    "    width=400,\n",
    "    margin=go.layout.Margin(\n",
    "        l=20,  # left margin\n",
    "        r=20,  # right margin\n",
    "        b=20,  # bottom margin\n",
    "        t=20,  # top margin\n",
    "    ),\n",
    ")\n",
    "figure.update_yaxes(title_text=\"MSE (kt<sup>2</sup>)\")\n",
    "figure.update_xaxes(title_text=\"Lead day\", tickmode=\"linear\", tick0=0, dtick=1)"
   ]
  },
  {
   "cell_type": "code",
   "execution_count": null,
   "metadata": {},
   "outputs": [],
   "source": [
    "figure.write_image(\"results/figures/wind_exposed_peaks.pdf\")"
   ]
  },
  {
   "cell_type": "markdown",
   "metadata": {},
   "source": [
    "### Generate station map"
   ]
  },
  {
   "cell_type": "code",
   "execution_count": null,
   "metadata": {},
   "outputs": [],
   "source": [
    "df = pd.read_csv(\"data/aws_metadata/station_data.csv\")\n",
    "df_exposed_peaks = df[df[\"station_number\"].isin(official_peaks.station_number.values)]"
   ]
  },
  {
   "cell_type": "code",
   "execution_count": null,
   "metadata": {},
   "outputs": [],
   "source": [
    "fig = px.scatter_geo(\n",
    "    df_exposed_peaks, lat=\"LATITUDE\", lon=\"LONGITUDE\", color_discrete_sequence=[\"red\"]\n",
    ")\n",
    "\n",
    "fig.update_geos(\n",
    "    resolution=110,\n",
    "    lonaxis_range=[110, 155],\n",
    "    lataxis_range=[-45, -10],\n",
    "    showcoastlines=True,\n",
    "    showland=True,\n",
    "    showocean=True,\n",
    "    oceancolor=\"rgb(144, 195, 245)\",\n",
    "    showcountries=True,\n",
    "    showframe=True,\n",
    "    lonaxis=dict(showgrid=True, gridcolor=\"gray\", gridwidth=0.5, dtick=5),\n",
    "    lataxis=dict(showgrid=True, gridcolor=\"gray\", gridwidth=0.5, dtick=5),\n",
    ")\n",
    "fig.update_traces(marker={\"size\": 4})\n",
    "fig.update_layout(\n",
    "    title=\"a)\",\n",
    "    height=350,\n",
    "    width=400,\n",
    "    margin=go.layout.Margin(\n",
    "        l=0,  # left margin\n",
    "        r=0,  # right margin\n",
    "        b=0,  # bottom margin\n",
    "        t=40,  # top margin\n",
    "    ),\n",
    ")\n",
    "fig.show()"
   ]
  },
  {
   "cell_type": "code",
   "execution_count": null,
   "metadata": {},
   "outputs": [],
   "source": [
    "fig.write_image(\"results/station_maps/b_wind_exposed_peaks_stations.pdf\")"
   ]
  },
  {
   "cell_type": "markdown",
   "metadata": {},
   "source": [
    "### Statistical tests"
   ]
  },
  {
   "cell_type": "code",
   "execution_count": null,
   "metadata": {},
   "outputs": [],
   "source": [
    "official_peaks_mse = mse(\n",
    "    official_peaks, obs_peaks, preserve_dims=[\"lead_day\", \"valid_start\"]\n",
    ")\n",
    "hindcast_peaks_mse = mse(\n",
    "    hindcast_peaks, obs_peaks, preserve_dims=[\"lead_day\", \"valid_start\"]\n",
    ")\n",
    "autofcst_peaks_mse = mse(\n",
    "    automated_peaks, obs_peaks, preserve_dims=[\"lead_day\", \"valid_start\"]\n",
    ")"
   ]
  },
  {
   "cell_type": "code",
   "execution_count": null,
   "metadata": {},
   "outputs": [],
   "source": [
    "# Difference between AutoFcst and the hindcast\n",
    "diff_autofcst_hindcast = autofcst_peaks_mse - hindcast_peaks_mse\n",
    "diff_autofcst_hindcast = diff_autofcst_hindcast.assign_coords(\n",
    "    h=(\"lead_day\", [2, 3, 4, 5, 6, 7, 8])\n",
    ")\n",
    "dm_result = diebold_mariano(diff_autofcst_hindcast, \"lead_day\", \"h\")\n",
    "dm_result"
   ]
  }
 ],
 "metadata": {
  "kernelspec": {
   "display_name": "scoresenv",
   "language": "python",
   "name": "python3"
  },
  "language_info": {
   "codemirror_mode": {
    "name": "ipython",
    "version": 3
   },
   "file_extension": ".py",
   "mimetype": "text/x-python",
   "name": "python",
   "nbconvert_exporter": "python",
   "pygments_lexer": "ipython3",
   "version": "3.11.4"
  }
 },
 "nbformat": 4,
 "nbformat_minor": 2
}
