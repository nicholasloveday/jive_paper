{
 "cells": [
  {
   "cell_type": "markdown",
   "metadata": {},
   "source": [
    "# Wind max-in-hour experiments figures (fig 3)\n",
    "\n",
    "In this notebook we:\n",
    "1. evaluate the wind max-in-hour hindcast experiment and generate figure 3, \n",
    "2. produce a station maps plot, and\n",
    "3. calculate if the difference in errors is statistically significant."
   ]
  },
  {
   "cell_type": "code",
   "execution_count": null,
   "metadata": {},
   "outputs": [],
   "source": [
    "import numpy as np\n",
    "import pandas as pd\n",
    "import xarray as xr\n",
    "\n",
    "from scores.continuous import mse\n",
    "from scores.processing import broadcast_and_match_nan\n",
    "from scores.stats.statistical_tests import diebold_mariano\n",
    "\n",
    "import plotly.express as px\n",
    "import plotly.graph_objects as go"
   ]
  },
  {
   "cell_type": "markdown",
   "metadata": {},
   "source": [
    "### Get Data for wind max-in-hour experiment"
   ]
  },
  {
   "cell_type": "code",
   "execution_count": null,
   "metadata": {},
   "outputs": [],
   "source": [
    "official_max_exp = xr.open_dataarray(\n",
    "    \"data/windmax_exp/Official_WindMag_00_20190901-20191130.nc\"\n",
    ")\n",
    "# Note that the 12Z AutoFcst was the automated guidance available to meteorologists for the\n",
    "# afternoon (00Z) official forecast issue.\n",
    "autofcst_max_exp = xr.open_dataarray(\n",
    "    \"data/windmax_exp/FCF_2_0_AutoFcst_WindMag_18_20190901-20191130.nc\"\n",
    ")\n",
    "hindcast_max_exp = xr.open_dataarray(\n",
    "    \"data/windmax_exp/AutoFcstMax_WindMag_12_20190901-20191130.nc\"\n",
    ")\n",
    "obs_max_exp = xr.open_dataarray(\n",
    "    \"data/windmax_exp/obs_WindMagMaxInHour_20190901-20191130.nc\"\n",
    ")\n",
    "\n",
    "# Match missing data between datasets\n",
    "(\n",
    "    official_max_exp,\n",
    "    autofcst_max_exp,\n",
    "    hindcast_max_exp,\n",
    "    obs_max_exp,\n",
    ") = broadcast_and_match_nan(\n",
    "    official_max_exp, autofcst_max_exp, hindcast_max_exp, obs_max_exp\n",
    ")"
   ]
  },
  {
   "cell_type": "markdown",
   "metadata": {},
   "source": [
    "### Calulate MSE"
   ]
  },
  {
   "cell_type": "code",
   "execution_count": null,
   "metadata": {},
   "outputs": [],
   "source": [
    "official_max_exp_mse = mse(official_max_exp, obs_max_exp, preserve_dims=\"lead_day\")\n",
    "hindcast_max_exp_mse = mse(hindcast_max_exp, obs_max_exp, preserve_dims=\"lead_day\")\n",
    "autofcst_max_exp_mse = mse(autofcst_max_exp, obs_max_exp, preserve_dims=\"lead_day\")"
   ]
  },
  {
   "cell_type": "code",
   "execution_count": null,
   "metadata": {},
   "outputs": [],
   "source": [
    "official_line_colour = \"rgba(230,159,0,1)\"\n",
    "autofcst_line_colour = \"rgba(86,180,233,1)\"\n",
    "hindcast_line_colour = \"#009E73\"\n",
    "\n",
    "# Left subfigure. WindMax experiment\n",
    "figure = go.Figure()\n",
    "figure.add_trace(\n",
    "    go.Scatter(\n",
    "        x=official_max_exp_mse.lead_day,\n",
    "        y=official_max_exp_mse.values,\n",
    "        line=dict(color=official_line_colour),\n",
    "        name=\"Official\",\n",
    "    )\n",
    ")\n",
    "figure.add_trace(\n",
    "    go.Scatter(\n",
    "        x=autofcst_max_exp_mse.lead_day,\n",
    "        y=autofcst_max_exp_mse.values,\n",
    "        line=dict(color=autofcst_line_colour),\n",
    "        name=\"Existing automated\",\n",
    "    )\n",
    ")\n",
    "figure.add_trace(\n",
    "    go.Scatter(\n",
    "        x=hindcast_max_exp_mse.lead_day,\n",
    "        y=hindcast_max_exp_mse.values,\n",
    "        line=dict(color=hindcast_line_colour),\n",
    "        name=\"Hindcast experiment\",\n",
    "    )\n",
    ")\n",
    "figure.update_layout(\n",
    "    legend=dict(x=0.01, y=0.99),\n",
    "    height=400,\n",
    "    width=400,\n",
    "    margin=go.layout.Margin(\n",
    "        l=20,  # left margin\n",
    "        r=20,  # right margin\n",
    "        b=20,  # bottom margin\n",
    "        t=20,  # top margin\n",
    "    ),\n",
    ")\n",
    "figure.update_yaxes(title_text=\"MSE (kt<sup>2</sup>)\")\n",
    "figure.update_xaxes(title_text=\"Lead day\", tickmode=\"linear\", tick0=0, dtick=1)"
   ]
  },
  {
   "cell_type": "code",
   "execution_count": null,
   "metadata": {},
   "outputs": [],
   "source": [
    "figure.write_image(\"results/figures/wind_max_exp.pdf\")"
   ]
  },
  {
   "cell_type": "markdown",
   "metadata": {},
   "source": [
    "### Station map"
   ]
  },
  {
   "cell_type": "code",
   "execution_count": null,
   "metadata": {},
   "outputs": [],
   "source": [
    "df = pd.read_csv(\"data/aws_metadata/station_data.csv\")\n",
    "df = df[df[\"station_number\"].isin(official_max_exp.station_number.values)]\n",
    "\n",
    "\n",
    "fig = px.scatter_geo(\n",
    "    df, lat=\"LATITUDE\", lon=\"LONGITUDE\", color_discrete_sequence=[\"red\"]\n",
    ")\n",
    "\n",
    "fig.update_geos(\n",
    "    resolution=50,\n",
    "    lonaxis_range=[110, 155],\n",
    "    lataxis_range=[-45, -10],\n",
    "    showcoastlines=True,\n",
    "    showland=True,\n",
    "    showocean=True,\n",
    "    oceancolor=\"rgb(144, 195, 245)\",\n",
    "    showcountries=True,\n",
    "    showframe=True,\n",
    "    lonaxis=dict(showgrid=True, gridcolor=\"gray\", gridwidth=0.5, dtick=5),\n",
    "    lataxis=dict(showgrid=True, gridcolor=\"gray\", gridwidth=0.5, dtick=5),\n",
    ")\n",
    "\n",
    "fig.update_traces(marker={\"size\": 4})\n",
    "fig.update_layout(\n",
    "    height=350,\n",
    "    width=400,\n",
    "    margin=go.layout.Margin(\n",
    "        l=0,  # left margin\n",
    "        r=0,  # right margin\n",
    "        b=0,  # bottom margin\n",
    "        t=0,  # top margin\n",
    "    ),\n",
    ")\n",
    "fig.show()"
   ]
  },
  {
   "cell_type": "code",
   "execution_count": null,
   "metadata": {},
   "outputs": [],
   "source": [
    "fig.write_image(\"results/station_maps/a_wind_aus_stations.pdf\")"
   ]
  },
  {
   "cell_type": "markdown",
   "metadata": {},
   "source": [
    "### Statistical significance testing for wind max experiment"
   ]
  },
  {
   "cell_type": "code",
   "execution_count": null,
   "metadata": {},
   "outputs": [],
   "source": [
    "official_max_exp_mse = mse(\n",
    "    official_max_exp, obs_max_exp, preserve_dims=[\"lead_day\", \"valid_start\"]\n",
    ")\n",
    "hindcast_max_exp_mse = mse(\n",
    "    hindcast_max_exp, obs_max_exp, preserve_dims=[\"lead_day\", \"valid_start\"]\n",
    ")\n",
    "autofcst_max_exp_mse = mse(\n",
    "    autofcst_max_exp, obs_max_exp, preserve_dims=[\"lead_day\", \"valid_start\"]\n",
    ")"
   ]
  },
  {
   "cell_type": "code",
   "execution_count": null,
   "metadata": {},
   "outputs": [],
   "source": [
    "# Difference between Official and the hindcast\n",
    "diff_official_hindcast = official_max_exp_mse - hindcast_max_exp_mse\n",
    "diff_official_hindcast = diff_official_hindcast.assign_coords(\n",
    "    h=(\"lead_day\", [2, 3, 4, 5, 6, 7, 8])\n",
    ")\n",
    "dm_result = diebold_mariano(diff_official_hindcast, \"lead_day\", \"h\")\n",
    "dm_result"
   ]
  },
  {
   "cell_type": "code",
   "execution_count": null,
   "metadata": {},
   "outputs": [],
   "source": [
    "# Difference between the existing AutoFcst and the hindcast\n",
    "diff_autofcst_hindcast = autofcst_max_exp_mse - hindcast_max_exp_mse\n",
    "diff_autofcst_hindcast = diff_autofcst_hindcast.assign_coords(\n",
    "    h=(\"lead_day\", [2, 3, 4, 5, 6, 7, 8])\n",
    ")\n",
    "dm_result = diebold_mariano(diff_autofcst_hindcast, \"lead_day\", \"h\")\n",
    "dm_result"
   ]
  },
  {
   "cell_type": "code",
   "execution_count": null,
   "metadata": {},
   "outputs": [],
   "source": [
    "# Difference between the existing AutoFcst and the Official\n",
    "diff_autofcst_official = autofcst_max_exp_mse - official_max_exp_mse\n",
    "diff_autofcst_official = diff_autofcst_official.assign_coords(\n",
    "    h=(\"lead_day\", [2, 3, 4, 5, 6, 7, 8])\n",
    ")\n",
    "dm_result = diebold_mariano(diff_autofcst_official, \"lead_day\", \"h\")\n",
    "dm_result"
   ]
  }
 ],
 "metadata": {
  "kernelspec": {
   "display_name": "scoresenv",
   "language": "python",
   "name": "python3"
  },
  "language_info": {
   "codemirror_mode": {
    "name": "ipython",
    "version": 3
   },
   "file_extension": ".py",
   "mimetype": "text/x-python",
   "name": "python",
   "nbconvert_exporter": "python",
   "pygments_lexer": "ipython3",
   "version": "3.11.4"
  }
 },
 "nbformat": 4,
 "nbformat_minor": 2
}
