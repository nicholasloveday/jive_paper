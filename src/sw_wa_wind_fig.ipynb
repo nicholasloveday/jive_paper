{
 "cells": [
  {
   "cell_type": "markdown",
   "metadata": {},
   "source": [
    "# Generate figures for SW WA wind biases (fig 5)\n",
    "In this notebook we:\n",
    "1. evaluate if meteorologists are improving on the automated wind speed forecasts over southwestern WA (fig 5), \n",
    "2. produce a station maps plot, and\n",
    "3. calculate if the difference in errors is statistically significant."
   ]
  },
  {
   "cell_type": "code",
   "execution_count": null,
   "metadata": {},
   "outputs": [],
   "source": [
    "import numpy as np\n",
    "import pandas as pd\n",
    "import xarray as xr\n",
    "\n",
    "from scores.continuous import mse\n",
    "from scores.processing import broadcast_and_match_nan\n",
    "from scores.stats.statistical_tests import diebold_mariano\n",
    "\n",
    "from plotly.subplots import make_subplots\n",
    "import plotly.graph_objects as go\n",
    "import plotly.express as px"
   ]
  },
  {
   "cell_type": "code",
   "execution_count": null,
   "id": "1db72a8d",
   "metadata": {},
   "outputs": [],
   "source": [
    "official = xr.open_dataarray(\n",
    "    \"data/sw_wa_wind/Official_WindMag_00_20230601-20230830_sw_wa.nc\"\n",
    ")\n",
    "# Note that the 12Z AutoFcst was the automated guidance available to meteorologists for the\n",
    "# afternoon (00Z) official forecast issue.\n",
    "autofcst = xr.open_dataarray(\n",
    "    \"data/sw_wa_wind/AutoFcst_WindMag_12_20230601-20230830_sw_wa.nc\"\n",
    ")\n",
    "obs = xr.open_dataarray(\"data/sw_wa_wind/obs_WindMag_20230601-20230830sw_wa.nc\")\n",
    "\n",
    "# Match missing data between datasets\n",
    "official, autofcst, obs = broadcast_and_match_nan(official, autofcst, obs)"
   ]
  },
  {
   "cell_type": "markdown",
   "id": "a2684de6",
   "metadata": {},
   "source": [
    "### Calculate MSE and multiplicative bias"
   ]
  },
  {
   "cell_type": "code",
   "execution_count": null,
   "id": "70da7761",
   "metadata": {},
   "outputs": [],
   "source": [
    "official_mse = mse(official, obs, preserve_dims=\"lead_day\")\n",
    "autofcst_mse = mse(autofcst, obs, preserve_dims=\"lead_day\")\n",
    "\n",
    "official_bias = official.mean([\"valid_start\", \"station_number\"]) / obs.mean(\n",
    "    [\"valid_start\", \"station_number\"]\n",
    ")\n",
    "autofcst_bias = autofcst.mean([\"valid_start\", \"station_number\"]) / obs.mean(\n",
    "    [\"valid_start\", \"station_number\"]\n",
    ")"
   ]
  },
  {
   "cell_type": "code",
   "execution_count": null,
   "id": "c84393b1",
   "metadata": {},
   "outputs": [],
   "source": [
    "official_line_colour = \"rgba(230,159,0,1)\"\n",
    "autofcst_line_colour = \"rgba(86,180,233,1)\"\n",
    "figure = make_subplots(\n",
    "    rows=2, cols=1, subplot_titles=(\"<b>(a)</b>\", \"<b>(b)</b>\"), vertical_spacing=0.15\n",
    ")\n",
    "figure.update_annotations(font_size=12, xshift=-160, xanchor=\"left\")\n",
    "\n",
    "# Upper subfig - MSE\n",
    "figure.add_trace(\n",
    "    go.Scatter(\n",
    "        x=official_mse.lead_day,\n",
    "        y=official_mse.values,\n",
    "        line=dict(color=official_line_colour),\n",
    "        name=\"Official\",\n",
    "    ),\n",
    "    row=1,\n",
    "    col=1,\n",
    ")\n",
    "figure.add_trace(\n",
    "    go.Scatter(\n",
    "        x=autofcst_mse.lead_day,\n",
    "        y=autofcst_mse.values,\n",
    "        line=dict(color=autofcst_line_colour),\n",
    "        name=\"Automated\",\n",
    "    ),\n",
    "    row=1,\n",
    "    col=1,\n",
    ")\n",
    "\n",
    "# Lower subfig - multiplicative bias\n",
    "figure.add_trace(\n",
    "    go.Scatter(\n",
    "        x=[1, 7],\n",
    "        y=[1, 1],\n",
    "        line=dict(color=\"black\", dash=\"dash\"),\n",
    "        mode=\"lines\",\n",
    "        name=\"Automated\",\n",
    "        showlegend=False,\n",
    "    ),\n",
    "    row=2,\n",
    "    col=1,\n",
    ")\n",
    "figure.add_trace(\n",
    "    go.Scatter(\n",
    "        x=official_bias.lead_day,\n",
    "        y=official_bias.values,\n",
    "        line=dict(color=official_line_colour),\n",
    "        name=\"Official\",\n",
    "        showlegend=False,\n",
    "    ),\n",
    "    row=2,\n",
    "    col=1,\n",
    ")\n",
    "figure.add_trace(\n",
    "    go.Scatter(\n",
    "        x=autofcst_bias.lead_day,\n",
    "        y=autofcst_bias.values,\n",
    "        line=dict(color=autofcst_line_colour),\n",
    "        name=\"Automated\",\n",
    "        showlegend=False,\n",
    "    ),\n",
    "    row=2,\n",
    "    col=1,\n",
    ")\n",
    "\n",
    "figure.add_annotation(\n",
    "    x=4, y=12, text=\"Lower scores better\", showarrow=False, row=1, col=1\n",
    ")\n",
    "figure.add_annotation(\n",
    "    x=4, y=1.05, text=\"Overforecast bias ↑\", showarrow=False, row=2, col=1\n",
    ")\n",
    "figure.add_annotation(\n",
    "    x=4, y=0.9, text=\"Underforecast bias ↓\", showarrow=False, row=2, col=1\n",
    ")\n",
    "\n",
    "figure.update_layout(\n",
    "    legend=dict(x=0.01, y=0.99),\n",
    "    height=600,\n",
    "    width=400,\n",
    "    margin=go.layout.Margin(\n",
    "        l=20,  # left margin\n",
    "        r=20,  # right margin\n",
    "        b=20,  # bottom margin\n",
    "        t=20,  # top margin\n",
    "    ),\n",
    ")\n",
    "figure.update_xaxes(\n",
    "    title_text=\"Lead day\", row=1, col=1, tickmode=\"linear\", tick0=0, dtick=1\n",
    ")\n",
    "figure.update_xaxes(\n",
    "    title_text=\"Lead day\", row=2, col=1, tickmode=\"linear\", tick0=0, dtick=1\n",
    ")\n",
    "figure.update_yaxes(title_text=\"MSE (kt<sup>2</sup>)\", row=1, col=1)\n",
    "figure.update_yaxes(title_text=\"Multiplicative bias\", row=2, col=1)"
   ]
  },
  {
   "cell_type": "code",
   "execution_count": null,
   "id": "597f7d5d",
   "metadata": {},
   "outputs": [],
   "source": [
    "figure.write_image(\"results/figures/sw_wa_wind_bias.pdf\")"
   ]
  },
  {
   "cell_type": "markdown",
   "id": "a2e90d2d",
   "metadata": {},
   "source": [
    "### Generate map of stations"
   ]
  },
  {
   "cell_type": "code",
   "execution_count": null,
   "id": "577aa10b",
   "metadata": {},
   "outputs": [],
   "source": [
    "df = pd.read_csv(\"data/aws_metadata/station_data.csv\")\n",
    "df = df[df[\"station_number\"].isin(official.station_number.values)]\n",
    "\n",
    "\n",
    "fig = px.scatter_geo(\n",
    "    df, lat=\"LATITUDE\", lon=\"LONGITUDE\", color_discrete_sequence=[\"red\"]\n",
    ")\n",
    "\n",
    "fig.update_geos(\n",
    "    resolution=50,\n",
    "    lonaxis_range=[110, 155],\n",
    "    lataxis_range=[-45, -10],\n",
    "    showcoastlines=True,\n",
    "    showland=True,\n",
    "    showocean=True,\n",
    "    oceancolor=\"rgb(144, 195, 245)\",\n",
    "    showcountries=True,\n",
    "    showframe=True,\n",
    "    lonaxis=dict(showgrid=True, gridcolor=\"gray\", gridwidth=0.5, dtick=5),\n",
    "    lataxis=dict(showgrid=True, gridcolor=\"gray\", gridwidth=0.5, dtick=5),\n",
    ")\n",
    "\n",
    "fig.update_traces(marker={\"size\": 4})\n",
    "fig.update_layout(\n",
    "    height=350,\n",
    "    width=400,\n",
    "    margin=go.layout.Margin(\n",
    "        l=0,  # left margin\n",
    "        r=0,  # right margin\n",
    "        b=0,  # bottom margin\n",
    "        t=0,  # top margin\n",
    "    ),\n",
    ")\n",
    "fig.show()"
   ]
  },
  {
   "cell_type": "code",
   "execution_count": null,
   "id": "85c54abd",
   "metadata": {},
   "outputs": [],
   "source": [
    "fig.write_image(\"results/station_maps/c_sw_wa_stations.pdf\")"
   ]
  },
  {
   "cell_type": "markdown",
   "metadata": {},
   "source": [
    "### Check statistical significance"
   ]
  },
  {
   "cell_type": "code",
   "execution_count": null,
   "metadata": {},
   "outputs": [],
   "source": [
    "official_mse = mse(official, obs, preserve_dims=[\"lead_day\", \"valid_start\"])\n",
    "autofcst_mse = mse(autofcst, obs, preserve_dims=[\"lead_day\", \"valid_start\"])"
   ]
  },
  {
   "cell_type": "code",
   "execution_count": null,
   "metadata": {},
   "outputs": [],
   "source": [
    "# Difference between Official and the hindcast\n",
    "diff = official_mse - autofcst_mse\n",
    "diff = diff.assign_coords(h=(\"lead_day\", [2, 3, 4, 5, 6, 7, 8]))\n",
    "dm_result = diebold_mariano(diff, \"lead_day\", \"h\")\n",
    "dm_result"
   ]
  }
 ],
 "metadata": {
  "kernelspec": {
   "display_name": "scoresenv",
   "language": "python",
   "name": "python3"
  },
  "language_info": {
   "codemirror_mode": {
    "name": "ipython",
    "version": 3
   },
   "file_extension": ".py",
   "mimetype": "text/x-python",
   "name": "python",
   "nbconvert_exporter": "python",
   "pygments_lexer": "ipython3",
   "version": "3.11.4"
  }
 },
 "nbformat": 4,
 "nbformat_minor": 5
}
